{
 "cells": [
  {
   "cell_type": "code",
   "execution_count": null,
   "id": "a87ff003-7b3a-475f-8cd5-f6370f46ce59",
   "metadata": {},
   "outputs": [],
   "source": [
    "#check for libraries\n",
    "!pip install pandas openpyxl\n",
    "\n",
    "\n",
    "import pandas as pd\n",
    "import matplotlib.pyplot as plt\n",
    "from scipy.signal import find_peaks\n",
    "import plotly.graph_objects as go\n",
    "import seaborn as sns\n",
    "import numpy as np\n",
    "from sqlalchemy import create_engine, text\n",
    "\n",
    "#DB Engine\n",
    "import sqlite3"
   ]
  },
  {
   "cell_type": "code",
   "execution_count": null,
   "id": "a0098d01-4997-43c4-b90a-e5f54409078f",
   "metadata": {},
   "outputs": [],
   "source": [
    "# no agg Excel file\n",
    "\n",
    "#Path from git hub\n",
    "data_path = 'https://raw.githubusercontent.com/castill01/DataXperts/main/data/'\n",
    "\n",
    "# Load the no aggregation Excel file\n",
    "df = pd.read_excel(f'{data_path}dognition_data_no_aggregation_with_zip_code_correction.xlsx')\n",
    "\n",
    "\n",
    "#Remmed out check your using the right data set\n",
    "#print(df.columns)"
   ]
  }
 ],
 "metadata": {
  "kernelspec": {
   "display_name": "Python 3 (ipykernel)",
   "language": "python",
   "name": "python3"
  },
  "language_info": {
   "codemirror_mode": {
    "name": "ipython",
    "version": 3
   },
   "file_extension": ".py",
   "mimetype": "text/x-python",
   "name": "python",
   "nbconvert_exporter": "python",
   "pygments_lexer": "ipython3",
   "version": "3.11.7"
  }
 },
 "nbformat": 4,
 "nbformat_minor": 5
}
