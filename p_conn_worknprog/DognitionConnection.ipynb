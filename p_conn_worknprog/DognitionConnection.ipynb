{
 "cells": [
  {
   "cell_type": "code",
   "execution_count": null,
   "id": "a87ff003-7b3a-475f-8cd5-f6370f46ce59",
   "metadata": {},
   "outputs": [],
   "source": [
    "#check for libraries\n",
    "!pip install pandas openpyxl\n",
    "\n",
    "import pandas as pd\n",
    "import matplotlib.pyplot as plt\n",
    "from scipy.signal import find_peaks\n",
    "import plotly.graph_objects as go"
   ]
  },
  {
   "cell_type": "code",
   "execution_count": null,
   "id": "a0098d01-4997-43c4-b90a-e5f54409078f",
   "metadata": {},
   "outputs": [],
   "source": [
    "# no agg Excel file\n",
    "dfnoagg = pd.read_excel('/Users/christinacastillo/Desktop/DS311/DS311-Group-Project-Documentation/dognition/dognition_data_no_aggregation_with_zip_code_correction.xlsx')\n",
    "df = dfnoagg\n",
    "\n",
    "#check your using the right data set\n",
    "print(df.columns)"
   ]
  }
 ],
 "metadata": {
  "kernelspec": {
   "display_name": "Python 3 (ipykernel)",
   "language": "python",
   "name": "python3"
  },
  "language_info": {
   "codemirror_mode": {
    "name": "ipython",
    "version": 3
   },
   "file_extension": ".py",
   "mimetype": "text/x-python",
   "name": "python",
   "nbconvert_exporter": "python",
   "pygments_lexer": "ipython3",
   "version": "3.11.7"
  }
 },
 "nbformat": 4,
 "nbformat_minor": 5
}
